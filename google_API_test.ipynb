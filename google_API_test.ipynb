{
 "cells": [
  {
   "cell_type": "code",
   "execution_count": 1,
   "metadata": {},
   "outputs": [
    {
     "name": "stdout",
     "output_type": "stream",
     "text": [
      "0289\n",
      "\n"
     ]
    }
   ],
   "source": [
    "import requests\n",
    "import base64\n",
    "import json\n",
    "\n",
    "GOOGLE_CLOUD_VISION_API_URL = 'https://vision.googleapis.com/v1/images:annotate?key='\n",
    "API_KEY = 'key' # 取得したAPIキーを入力してください。\n",
    "\n",
    "# APIを呼び、認識結果をjson型で返す\n",
    "def request_cloud_vison_api(image_base64):\n",
    "    api_url = GOOGLE_CLOUD_VISION_API_URL + API_KEY\n",
    "    req_body = json.dumps({\n",
    "        'requests': [{\n",
    "            'image': {\n",
    "                'content': image_base64.decode('utf-8') # jsonに変換するためにstring型に変換する\n",
    "            },\n",
    "            'features': [{\n",
    "                'type': 'TEXT_DETECTION', # ここを変更することで分析内容を変更できる\n",
    "                'maxResults': 10,\n",
    "            }]\n",
    "        }]\n",
    "    })\n",
    "    res = requests.post(api_url, data=req_body)\n",
    "    return res.json()\n",
    "\n",
    "# 画像読み込み\n",
    "def img_to_base64(filepath):\n",
    "    with open(filepath, 'rb') as img:\n",
    "        img_byte = img.read()\n",
    "    return base64.b64encode(img_byte)\n",
    "\n",
    "# 文字認識させたい画像を./img.pngとする\n",
    "img_base64 = img_to_base64('Input/test/test0.png')\n",
    "result = request_cloud_vison_api(img_base64)\n",
    "\n",
    "#認識した文字の位置など、すべての情報を出力\n",
    "#print(\"{}\".format(json.dumps(result, indent=4)))\n",
    "\n",
    "#認識した文字のみを出力\n",
    "text_r = result[\"responses\"][0][\"fullTextAnnotation\"][\"text\"]\n",
    "print(text_r)"
   ]
  },
  {
   "cell_type": "code",
   "execution_count": 16,
   "metadata": {},
   "outputs": [
    {
     "data": {
      "text/plain": [
       "{'responses': [{'error': {'code': 3, 'message': 'Bad image data.'}}]}"
      ]
     },
     "execution_count": 16,
     "metadata": {},
     "output_type": "execute_result"
    }
   ],
   "source": [
    "result"
   ]
  },
  {
   "cell_type": "code",
   "execution_count": null,
   "metadata": {},
   "outputs": [],
   "source": []
  }
 ],
 "metadata": {
  "kernelspec": {
   "display_name": "Python 3",
   "language": "python",
   "name": "python3"
  },
  "language_info": {
   "codemirror_mode": {
    "name": "ipython",
    "version": 3
   },
   "file_extension": ".py",
   "mimetype": "text/x-python",
   "name": "python",
   "nbconvert_exporter": "python",
   "pygments_lexer": "ipython3",
   "version": "3.6.4"
  }
 },
 "nbformat": 4,
 "nbformat_minor": 2
}
